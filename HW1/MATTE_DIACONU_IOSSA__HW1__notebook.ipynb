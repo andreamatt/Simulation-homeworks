{
 "cells": [
  {
   "cell_type": "markdown",
   "metadata": {},
   "source": [
    "# SPE homework 1\n",
    "\n",
    "## Imports and functions\n",
    "\n",
    "In the cell below we grouped all the statistical formulas that we implemented in order to complete the exercises. In particular, the following are some observations that should clarify some choices in our code:\n",
    "\n",
    "We used the `variance` given by this formula in order to hold exactly: $\\hat\\sigma_n^2=\\dfrac{1}{n-1}\\sum_{i=1}^{n}(X_i-\\hat\\mu_n)^2$\n",
    "- this way there were no doubts because we used the formula in both cases when it was needed for precise results and not\n",
    "- the `standard deviation` was set accordingly\n",
    "\n",
    "The function that calculates the `confidence intervals given a quantile` distinguishes between two main cases accordingly to the size of the dataset:\n",
    "- if the dataset is small (an arbitrary small $n=100$ was set as the threshold value) the binomial cumulative distribution function is used in order to find the smallest interval $[X_{(j)},X_{(k)}]$ that satisfies the formula $B_{n,p}(k-1)-B_{n,p}(j-1) \\ge \\gamma$ , where $\\gamma$ is the confidence level\n",
    "- if the dataset is large enough, an asymptotic approximation method is used for the calculation of the confidence interval ends $j$ and $k$:\n",
    "    - $j \\approx \\lfloor np -\\eta\\sqrt{np(1-p)}\\rfloor$\n",
    "    - $k \\approx \\lceil np +\\eta\\sqrt{np(1-p)}\\rceil + 1$\n",
    "    \n",
    "The remaining functions in this section are self explanatory enough."
   ]
  },
  {
   "cell_type": "code",
   "execution_count": 75,
   "metadata": {},
   "outputs": [],
   "source": [
    "from pandas import read_csv\n",
    "import numpy as np\n",
    "from matplotlib import pyplot as plt\n",
    "from numpy import mean, min, max, median, quantile\n",
    "from scipy.stats import binom, norm, t as student, expon\n",
    "from math import sqrt, pow, floor, ceil, exp\n",
    "\n",
    "# define corrected functions for std and variance\n",
    "def variance(values):\n",
    "    return np.var(values, ddof=1)\n",
    "\n",
    "def std(values):\n",
    "    return np.std(values, ddof=1)\n",
    "\n",
    "def quantile_confidence(values, q, confidence):\n",
    "    # return tuple (lower, upper) of values\n",
    "    values = sorted(values)\n",
    "    n = len(values)\n",
    "    if n > 100:\n",
    "        # approximate\n",
    "        z = norm.ppf((1+confidence)/2)\n",
    "        j = floor(n*q-z*sqrt(n*q*(1-q)))\n",
    "        k = ceil(n*q+z*sqrt(n*q*(1-q)))+1\n",
    "        return (values[j], values[k], confidence)\n",
    "\n",
    "    # with n <= 100, use binom cdf formula\n",
    "    results = []\n",
    "    binoms = [binom.cdf(i, n, q) for i in range(0, n)]\n",
    "    for j in range(1, n):\n",
    "        for k in range(j, n):\n",
    "            val = binoms[k] - binoms[j]\n",
    "            if val >= confidence:\n",
    "                results.append((j, k, val))\n",
    "\n",
    "    # sort by smallest interval and highest confidence value\n",
    "    results = sorted(results, key=lambda x: (x[1]-x[0], -x[2]))\n",
    "    best = results[0]\n",
    "    return (values[best[0]], values[best[1]])\n",
    "\n",
    "def mean_confidence_asymptotic(values, confidence):\n",
    "    # when variables iid and high n\n",
    "    n = len(values)\n",
    "    z = norm.ppf((1+confidence)/2)\n",
    "    s = std(values)\n",
    "    m = mean(values)\n",
    "    j = m - z*s/sqrt(n)\n",
    "    k = m + z*s/sqrt(n)\n",
    "    return (j, k)\n",
    "\n",
    "def CoV(values):\n",
    "    # Coeff of variation (not defined on heavy tailed sets, because variance=>inf)\n",
    "    return std(values)/mean(values)\n",
    "\n",
    "def MAD(values):\n",
    "    # mean absolute deviation, always defined\n",
    "    n = len(values)\n",
    "    m = mean(values)\n",
    "    return sum([abs(x-m) for x in values])/n\n",
    "\n",
    "def lorenz_gap(values):\n",
    "    # always defined, the best\n",
    "    return MAD(values)/(2*mean(values))\n",
    "\n",
    "def JFI(values):\n",
    "    # Jain Fairness Index (same problems as CoV)\n",
    "    return 1/(1+pow(CoV(values), 2))\n",
    "\n",
    "def bootstrap(values, confidence, func, r0=25):\n",
    "    R = ceil(2*r0/(1-confidence))\n",
    "    n = len(values)\n",
    "    Tvs = []\n",
    "    for r in range(R):\n",
    "        V = np.random.choice(values, size=(n,))\n",
    "        Tv = func(V)\n",
    "        Tvs.append(Tv)\n",
    "    Tvs = sorted(Tvs)\n",
    "    interval = (Tvs[r0], Tvs[R-r0-1])\n",
    "    low = 0\n",
    "    high = 0\n",
    "    for tv in Tvs:\n",
    "        if tv < interval[0]:\n",
    "            low += 1\n",
    "        if tv > interval[1]:\n",
    "            high += 1\n",
    "    return interval\n",
    "\n",
    "def success_probability_confidence_normal(values, confidence):\n",
    "    n = len(values)\n",
    "    z = sum(values)\n",
    "    eta = norm.ppf((1+confidence)/2)\n",
    "    lower = z/n - eta/n * sqrt(z* (1 - z/n))\n",
    "    upper = z/n + eta/n * sqrt(z* (1 - z/n))\n",
    "    return (lower, upper)\n",
    "    \n",
    "def success_probability_confidence_three(values, confidence):\n",
    "    n = len(values)\n",
    "    lower = 0\n",
    "    upper = 1 - pow(((1-confidence)/2), 1/n)\n",
    "    return (lower, upper)"
   ]
  },
  {
   "cell_type": "markdown",
   "metadata": {},
   "source": [
    "## Import data"
   ]
  },
  {
   "cell_type": "code",
   "execution_count": 76,
   "metadata": {},
   "outputs": [],
   "source": [
    "data = 'data'\n",
    "data_ex1 = read_csv(f'{data}\\\\data_ex1.csv', header=None)\n",
    "data_ex2 = read_csv(f'{data}\\\\data_ex2.csv', header=None)\n",
    "data_ex3 = read_csv(f'{data}\\\\data_ex3.csv', header=None)\n",
    "data_ex4 = read_csv(f'{data}\\\\data_ex4.csv', header=None)\n",
    "data_ex5 = read_csv(f'{data}\\\\data_ex5.csv', header=None)"
   ]
  },
  {
   "cell_type": "markdown",
   "metadata": {},
   "source": [
    "## Exercise 1\n",
    "\n",
    "1. To compute the confidence interval for the mean, knowing that the datasamples were iid, we used the formula of Theorem 2.1. In particular, given the large number of elements the right formula to use was the following approximation, where $p$ is 0.5 for the median and $\\eta$ is the $\\dfrac{1+\\gamma}{2}$ quantile of the normal distribuition.\n",
    "    - $j \\approx \\lfloor np -\\eta\\sqrt{np(1-p)}\\rfloor$\n",
    "    - $k \\approx \\lceil np +\\eta\\sqrt{np(1-p)}\\rceil + 1$\n",
    "\n",
    "2. For the mean, knowing the data samples to be iid and large in number, we used the CI for the mean in the asymptotic case described in Theorem 2.2: $$\\hat\\sigma_n=\\pm\\eta\\dfrac{s_n}{\\sqrt{n}}$$"
   ]
  },
  {
   "cell_type": "code",
   "execution_count": 77,
   "metadata": {},
   "outputs": [
    {
     "name": "stdout",
     "output_type": "stream",
     "text": [
      "Median: 0.40319100366316096\n",
      "Median CI at 0.95: [0.384475528575523 , 0.4171819583272271]\n",
      "Mean: 0.41020458058272363\n",
      "Mean CI at 0.95: [0.398868829144219 , 0.42154033202122826]\n",
      "Mean CI at 0.99: [0.3953068778885086 , 0.42510228327693866]\n"
     ]
    }
   ],
   "source": [
    "values = data_ex1.to_numpy()[:, 0]\n",
    "values = sorted(values)\n",
    "print(\"Median:\", median(values))\n",
    "interval = quantile_confidence(values, 0.5, 0.95)\n",
    "print(f\"Median CI at 0.95: [{interval[0]} , {interval[1]}]\")\n",
    "\n",
    "# 1000 iid values, no heavy tail => asymptotic\n",
    "print(f\"Mean: {mean(values)}\")\n",
    "interval = mean_confidence_asymptotic(values, 0.95)\n",
    "print(f\"Mean CI at 0.95: [{interval[0]} , {interval[1]}]\")\n",
    "interval = mean_confidence_asymptotic(values, 0.99)\n",
    "print(f\"Mean CI at 0.99: [{interval[0]} , {interval[1]}]\")"
   ]
  },
  {
   "cell_type": "markdown",
   "metadata": {},
   "source": [
    "## Exercise 2\n",
    "1. Given the datasamples are iid and the distribution looks normal, we used the asymptotic method to calculate the CI for the mean.\n",
    "2. We didn't expect the percentage of means inside the CI to be as low as 67%. Running the same computations using other rows for the reference CI we realized that the first row is not a good representation of the entire dataset. The first row doesn't have heavy tails, its values are simply higher on average than the dataset mean."
   ]
  },
  {
   "cell_type": "code",
   "execution_count": 78,
   "metadata": {},
   "outputs": [
    {
     "name": "stdout",
     "output_type": "stream",
     "text": [
      "Mean: 3.175048214082969\n",
      "Mean CI at 0.95: [2.9374928534666043 , 3.4126035746993337]\n",
      "Ratio of rows with mean inside CI 0.95: 0.6693333333333333\n"
     ]
    }
   ],
   "source": [
    "rows = data_ex2.to_numpy()\n",
    "# 200 values => asymptotic again\n",
    "values = rows[0]\n",
    "print(f\"Mean: {mean(values)}\")\n",
    "interval = mean_confidence_asymptotic(values, 0.95)\n",
    "print(f\"Mean CI at 0.95: [{interval[0]} , {interval[1]}]\")\n",
    "\n",
    "inside = 0\n",
    "for i in range(1, len(rows)):\n",
    "    m = mean(rows[i])\n",
    "    if m >= interval[0] and m <= interval[1]:\n",
    "        inside += 1\n",
    "\n",
    "print(f\"Ratio of rows with mean inside CI 0.95: {inside/(len(rows)-1)}\")"
   ]
  },
  {
   "cell_type": "markdown",
   "metadata": {},
   "source": [
    "## Exercise 3\n",
    "1. For the CoV, JFI and Lorenz curve gap we used the functions defined above.\n",
    "2. After plotting the distribution histogram to check if it was heavy tailed, we realized that it is positively skewed and the distribution looked exponential. The QQ plot with exponential quantiles confirms the hypotesis, the same for CoV=1, gap=0.36 and JFI=0.5. Given that the distribution is exponential, the three metrics used give all the same information, thus none of them are a good metric.\n",
    "3. We implemented the boostrap algorithm from the slides for generic metric and confidence level.\n",
    "4. Using the boostrap method we expected to see a relevant underestimation of the CI, but the values are almost identical to the asymptotic results."
   ]
  },
  {
   "cell_type": "code",
   "execution_count": 79,
   "metadata": {},
   "outputs": [
    {
     "name": "stdout",
     "output_type": "stream",
     "text": [
      "CoV: 1.001469136252603\n",
      "Lorenz gap: 0.36230444707595705\n",
      "Jain FI: 0.49926597146344925\n"
     ]
    },
    {
     "data": {
      "image/png": "[encoded data removed]",
      "text/plain": [
       "<Figure size 432x288 with 1 Axes>"
      ]
     },
     "metadata": {
      "needs_background": "light"
     },
     "output_type": "display_data"
    },
    {
     "data": {
      "image/png": "[encoded data removed]",
      "text/plain": [
       "<Figure size 432x288 with 1 Axes>"
      ]
     },
     "metadata": {
      "needs_background": "light"
     },
     "output_type": "display_data"
    },
    {
     "data": {
      "image/png": "[encoded data removed]",
      "text/plain": [
       "<Figure size 432x288 with 1 Axes>"
      ]
     },
     "metadata": {
      "needs_background": "light"
     },
     "output_type": "display_data"
    },
    {
     "name": "stdout",
     "output_type": "stream",
     "text": [
      "Lorenz gap: 0.36230444707595705\n",
      "Bootstrap Lorenz gap CI at 0.95: [0.3392808074030888 , 0.38300681609529114]\n",
      "Bootstrap Lorenz gap CI at 0.99: [0.3337509099276364 , 0.3925823809208218]\n",
      "\n",
      "Jain FI: 0.49926597146344925\n",
      "Bootstrap Jain FI CI at 0.95: [0.4617938130058123 , 0.5442600239152122]\n",
      "Bootstrap Jain FI CI at 0.99: [0.44657188796898906 , 0.5582604437387214]\n",
      "\n",
      "Mean: 4.084097581606042\n",
      "Bootstrap mean CI at 0.95: [3.7507932612165695 , 4.447108505221395]\n",
      "Bootstrap mean CI at 0.99: [3.6254752934270007 , 4.553253356874588]\n",
      "\n",
      "Std: 4.090097677422348\n",
      "Bootstrap std CI at 0.95: [3.559984896948806 , 4.593469870229943]\n",
      "Bootstrap std CI at 0.99: [3.40898903477466 , 4.778050012391338]\n",
      "\n",
      "Asymptotic mean CI at 0.95: [3.7255913008639814 , 4.442603862348103]\n",
      "Asymptotic mean CI at 0.99: [3.612940463043766 , 4.555254700168319]\n",
      "\n"
     ]
    }
   ],
   "source": [
    "values = data_ex3.to_numpy()[:,0]\n",
    "values = sorted(values)\n",
    "\n",
    "print(f\"CoV: {CoV(values)}\")\n",
    "print(f\"Lorenz gap: {lorenz_gap(values)}\")\n",
    "print(f\"Jain FI: {JFI(values)}\")\n",
    "\n",
    "# plot histogram\n",
    "plt.hist(values, bins=50)\n",
    "plt.show()\n",
    "\n",
    "#plot QQ\n",
    "X = []\n",
    "Y = []\n",
    "n = len(values)\n",
    "for i in np.arange(0,n,1):\n",
    "    X.append(expon.ppf((i+1)/(n+1)))\n",
    "    Y.append(values[i])\n",
    "X = np.array(X)\n",
    "Y = np.array(Y)\n",
    "m, b = np.polyfit(X, Y, 1)\n",
    "plt.scatter(X, Y, s=2)\n",
    "plt.plot([X[0],X[-1]], [m*X[0]+b, m*X[-1]], 'r--')\n",
    "plt.show()\n",
    "\n",
    "# plot lorenz\n",
    "n = len(values)\n",
    "X = []\n",
    "Y = []\n",
    "tot = sum(values)\n",
    "cum_sum = np.cumsum(values)\n",
    "for i in np.arange(0, n, 1):\n",
    "    X.append(i/n)\n",
    "    Y.append(cum_sum[i]/tot)\n",
    "\n",
    "plt.scatter(X, Y, s=0.5)\n",
    "# find intersection point calculating slope of line from (0.5,0.5) to each point\n",
    "# of the second parth of the curve, find the closest to -1\n",
    "X = X[ceil(len(X)/2+1):]\n",
    "Y = Y[ceil(len(Y)/2+1):]\n",
    "intersection_point = np.argmin([abs(-1 - (0.5-Y[i])/(0.5-X[i])) for i in range(len(X))])\n",
    "x_i = X[intersection_point]\n",
    "y_i = Y[intersection_point]\n",
    "plt.axis('equal')\n",
    "plt.plot([0,1], [0,1], 'k-')\n",
    "plt.plot([0.5, x_i], [0.5, y_i], '.r--')\n",
    "plt.plot([x_i, x_i], [y_i, x_i], '.r-')\n",
    "plt.show()\n",
    "\n",
    "print(f\"Lorenz gap: {lorenz_gap(values)}\")\n",
    "interval = bootstrap(values, 0.95, lorenz_gap)\n",
    "print(f\"Bootstrap Lorenz gap CI at 0.95: [{interval[0]} , {interval[1]}]\")\n",
    "interval = bootstrap(values, 0.99, lorenz_gap)\n",
    "print(f\"Bootstrap Lorenz gap CI at 0.99: [{interval[0]} , {interval[1]}]\\n\")\n",
    "\n",
    "print(f\"Jain FI: {JFI(values)}\")\n",
    "interval = bootstrap(values, 0.95, JFI)\n",
    "print(f\"Bootstrap Jain FI CI at 0.95: [{interval[0]} , {interval[1]}]\")\n",
    "interval = bootstrap(values, 0.99, JFI)\n",
    "print(f\"Bootstrap Jain FI CI at 0.99: [{interval[0]} , {interval[1]}]\\n\")\n",
    "\n",
    "print(f\"Mean: {mean(values)}\")\n",
    "interval = bootstrap(values, 0.95, mean)\n",
    "print(f\"Bootstrap mean CI at 0.95: [{interval[0]} , {interval[1]}]\")\n",
    "interval = bootstrap(values, 0.99, mean)\n",
    "print(f\"Bootstrap mean CI at 0.99: [{interval[0]} , {interval[1]}]\\n\")\n",
    "\n",
    "print(f\"Std: {std(values)}\")\n",
    "interval = bootstrap(values, 0.95, std)\n",
    "print(f\"Bootstrap std CI at 0.95: [{interval[0]} , {interval[1]}]\")\n",
    "interval = bootstrap(values, 0.99, std)\n",
    "print(f\"Bootstrap std CI at 0.99: [{interval[0]} , {interval[1]}]\\n\")\n",
    "\n",
    "# compare bootstrap mean with asymptotic mean\n",
    "interval = mean_confidence_asymptotic(values, 0.95)\n",
    "print(f\"Asymptotic mean CI at 0.95: [{interval[0]} , {interval[1]}]\")\n",
    "interval = mean_confidence_asymptotic(values, 0.99)\n",
    "print(f\"Asymptotic mean CI at 0.99: [{interval[0]} , {interval[1]}]\\n\")\n",
    "\n",
    "# bootstrap has smaller interval"
   ]
  },
  {
   "cell_type": "markdown",
   "metadata": {},
   "source": [
    "## Exercise 4\n",
    "1. We used the bootstrap function implemented above.\n",
    "2. Confronting the values of the CI obtained with the bootstrap method and the asymptotic one we can show what we already expected: the bootstrap method tends to underestimate the interval. For both values of confidence the interval computed with the bootstrap method is definitely smaller that the one computed with the asymptotic formulas. Plotting the data revealed that the distribution is heavy tailed.\n",
    "3. Transforming the data using a logarithm yields a better distribution, as seen in the second plot. Even after the transformation the bootstrap interval is sligtly smaller in both cases than the asymptotic one. Once re-transformed, the intervals with both methods are more consistent with the original data and less biased.\n",
    "\n",
    "In the QQ plots the blue dots are the values while the red ones are a best-fit line."
   ]
  },
  {
   "cell_type": "code",
   "execution_count": 80,
   "metadata": {},
   "outputs": [
    {
     "name": "stdout",
     "output_type": "stream",
     "text": [
      "Mean CI at 0.95 using bootstrap: [136.52702790070492 , 12013.876123432685]\n",
      "Mean CI at 0.99 using bootstrap: [57.481221775034065 , 15809.839863227257]\n",
      "\n",
      "Mean CI at 0.95 using asymptotic: [-3226.3420437613004 , 11612.994704202103]\n",
      "Mean CI at 0.99 using asymptotic: [-5557.770818027488 , 13944.42347846829]\n",
      "\n"
     ]
    },
    {
     "data": {
      "image/png": "[encoded data removed]",
      "text/plain": [
       "<Figure size 432x288 with 1 Axes>"
      ]
     },
     "metadata": {
      "needs_background": "light"
     },
     "output_type": "display_data"
    },
    {
     "data": {
      "image/png": "[encoded data removed]",
      "text/plain": [
       "<Figure size 432x288 with 1 Axes>"
      ]
     },
     "metadata": {
      "needs_background": "light"
     },
     "output_type": "display_data"
    },
    {
     "name": "stdout",
     "output_type": "stream",
     "text": [
      "Mean CI at 0.95 using bootstrap: [0.5907716370873449 , 1.0556555970140782], re-transformed: [1.8053809769712998 , 2.873858629569802]\n",
      "Mean CI at 0.99 using bootstrap: [0.5166981702336134 , 1.1338748527130516], re-transformed: [1.6764830394541144 , 3.1076749830007793]\n",
      "\n",
      "Mean CI at 0.95 using asymptotic: [0.5924332420947909 , 1.0491151025472925], re-transformed: [1.8083833006902783 , 2.8551235083706876]\n",
      "Mean CI at 0.99 using asymptotic: [0.5206833217157347 , 1.1208650229263486], re-transformed: [1.6831774085012328 , 3.0675065194365163]\n",
      "\n"
     ]
    }
   ],
   "source": [
    "values = data_ex4.to_numpy()[:,0]\n",
    "values = sorted(values)\n",
    "\n",
    "# compare bootstrap and asymptotic\n",
    "interval = bootstrap(values, 0.95, mean)\n",
    "print(f\"Mean CI at 0.95 using bootstrap: [{interval[0]} , {interval[1]}]\")\n",
    "interval = bootstrap(values, 0.99, mean)\n",
    "print(f\"Mean CI at 0.99 using bootstrap: [{interval[0]} , {interval[1]}]\\n\")\n",
    "\n",
    "interval = mean_confidence_asymptotic(values, 0.95)\n",
    "print(f\"Mean CI at 0.95 using asymptotic: [{interval[0]} , {interval[1]}]\")\n",
    "interval = mean_confidence_asymptotic(values, 0.99)\n",
    "print(f\"Mean CI at 0.99 using asymptotic: [{interval[0]} , {interval[1]}]\\n\")\n",
    "\n",
    "#plot QQ\n",
    "X = []\n",
    "Y = []\n",
    "n = len(values)\n",
    "for i in np.arange(0,n,1):\n",
    "    X.append(norm.ppf((i+1)/(n+1)))\n",
    "    Y.append(values[i])\n",
    "X = np.array(X)\n",
    "Y = np.array(Y)\n",
    "m, b = np.polyfit(X, Y, 1)\n",
    "plt.scatter(X, Y, s=2)\n",
    "plt.plot([X[0],X[-1]], [m*X[0]+b, m*X[-1]], 'r--')\n",
    "plt.show()\n",
    "\n",
    "# log transform\n",
    "Y_log = np.log(values)\n",
    "m, b = np.polyfit(X, Y_log, 1)\n",
    "plt.scatter(X, Y_log, s=2)\n",
    "plt.plot([X[0],X[-1]], [m*X[0]+b, m*X[-1]], 'r--')\n",
    "plt.show()\n",
    "\n",
    "# compare bootstrap and asymptotic on log data\n",
    "values = np.log(values)\n",
    "interval = bootstrap(values, 0.95, mean)\n",
    "print(f\"Mean CI at 0.95 using bootstrap: [{interval[0]} , {interval[1]}], re-transformed: [{exp(interval[0])} , {exp(interval[1])}]\")\n",
    "interval = bootstrap(values, 0.99, mean)\n",
    "print(f\"Mean CI at 0.99 using bootstrap: [{interval[0]} , {interval[1]}], re-transformed: [{exp(interval[0])} , {exp(interval[1])}]\\n\")\n",
    "\n",
    "interval = mean_confidence_asymptotic(values, 0.95)\n",
    "print(f\"Mean CI at 0.95 using asymptotic: [{interval[0]} , {interval[1]}], re-transformed: [{exp(interval[0])} , {exp(interval[1])}]\")\n",
    "interval = mean_confidence_asymptotic(values, 0.99)\n",
    "print(f\"Mean CI at 0.99 using asymptotic: [{interval[0]} , {interval[1]}], re-transformed: [{exp(interval[0])} , {exp(interval[1])}]\\n\")\n"
   ]
  },
  {
   "cell_type": "markdown",
   "metadata": {},
   "source": [
    "## Exercise 5\n",
    "1. We calculated the probability by using the mean of the values. There are 125>=6 successes and 875>=6 failures, therefore we can approximate the CI using the normal approximation from Theorem 2.4:\n",
    "    - $L(z) \\approx \\dfrac{z}{n}-\\dfrac{\\eta}{n}\\sqrt{z\\bigg(1-\\dfrac{z}{n}\\bigg)}$\n",
    "    - $U(z) \\approx \\dfrac{z}{n}+\\dfrac{\\eta}{n}\\sqrt{z\\bigg(1-\\dfrac{z}{n}\\bigg)}$\n",
    "2. There are 0 successes in the first 15 cases. The resulting probability is 0 and we have to use the rule of three for the CI estimation. Since the left boundary is 0, we only need the right boundary from formula 2.28:\n",
    "$$p_0(n)=1-\\bigg(\\dfrac{1-\\gamma}{2}\\bigg)^\\dfrac{1}{n}$$"
   ]
  },
  {
   "cell_type": "code",
   "execution_count": 81,
   "metadata": {},
   "outputs": [
    {
     "name": "stdout",
     "output_type": "stream",
     "text": [
      "Probability of success (mean): 0.125\n",
      "Probability CI at 0.95: [0.10450220600861107 , 0.14549779399138893]\n",
      "Probability CI at 0.99: [0.0980613323318191 , 0.1519386676681809]\n",
      "Probability of success (mean): 0.0\n",
      "Probability CI at 0.95: [0 , 0.21801936091053398]\n",
      "Probability CI at 0.99: [0 , 0.2975781698474812]\n"
     ]
    }
   ],
   "source": [
    "values = data_ex5.to_numpy()[0]\n",
    "\n",
    "# success = 1, failure = 0\n",
    "n_success = sum(values)\n",
    "print(f\"Probability of success (mean): {mean(values)}\")\n",
    "interval = success_probability_confidence_normal(values, 0.95)\n",
    "print(f\"Probability CI at 0.95: [{interval[0]} , {interval[1]}]\")\n",
    "interval = success_probability_confidence_normal(values, 0.99)\n",
    "print(f\"Probability CI at 0.99: [{interval[0]} , {interval[1]}]\")\n",
    "\n",
    "# using only the first 15\n",
    "values = data_ex5.to_numpy()[0][:15]\n",
    "n_success = sum(values)\n",
    "print(f\"Probability of success (mean): {mean(values)}\")\n",
    "interval = success_probability_confidence_three(values, 0.95)\n",
    "print(f\"Probability CI at 0.95: [{interval[0]} , {interval[1]}]\")\n",
    "interval = success_probability_confidence_three(values, 0.99)\n",
    "print(f\"Probability CI at 0.99: [{interval[0]} , {interval[1]}]\")"
   ]
  },
  {
   "cell_type": "markdown",
   "metadata": {},
   "source": [
    "## Authors\n",
    "- Andrea Matté\n",
    "- Andrei Diaconu\n",
    "- Andrea Iossa"
   ]
  },
  {
   "cell_type": "code",
   "execution_count": null,
   "metadata": {},
   "outputs": [],
   "source": []
  }
 ],
 "metadata": {
  "file_extension": ".py",
  "kernelspec": {
   "display_name": "Python 3.8.2 64-bit",
   "language": "python",
   "name": "python38264bit95f41adcf7a64b14b7d9ba10a23d50ea"
  },
  "language_info": {
   "codemirror_mode": {
    "name": "ipython",
    "version": 3
   },
   "file_extension": ".py",
   "mimetype": "text/x-python",
   "name": "python",
   "nbconvert_exporter": "python",
   "pygments_lexer": "ipython3",
   "version": "3.8.2"
  },
  "mimetype": "text/x-python",
  "name": "python",
  "npconvert_exporter": "python",
  "pygments_lexer": "ipython3",
  "version": 3
 },
 "nbformat": 4,
 "nbformat_minor": 2
}
